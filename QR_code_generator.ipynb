{
 "cells": [
  {
   "cell_type": "markdown",
   "id": "080d9fec",
   "metadata": {},
   "source": [
    "# QR Code Generator\n",
    " Today is our python project on generating QR-code,\n",
    " Here i will code to get QR-code for my github profile page."
   ]
  },
  {
   "cell_type": "code",
   "execution_count": 1,
   "id": "35a4d779",
   "metadata": {},
   "outputs": [],
   "source": [
    "import qrcode"
   ]
  },
  {
   "cell_type": "code",
   "execution_count": 2,
   "id": "e95ea5bb",
   "metadata": {},
   "outputs": [],
   "source": [
    "import image"
   ]
  },
  {
   "cell_type": "code",
   "execution_count": 3,
   "id": "1436d6d8",
   "metadata": {},
   "outputs": [],
   "source": [
    "qr = qrcode.QRCode(version = 1, box_size = 10 , border = 5)"
   ]
  },
  {
   "cell_type": "code",
   "execution_count": 4,
   "id": "eedb3860",
   "metadata": {},
   "outputs": [],
   "source": [
    "data = \"https://github.com/jaiswarpradeep27\""
   ]
  },
  {
   "cell_type": "code",
   "execution_count": 5,
   "id": "8daf8baf",
   "metadata": {},
   "outputs": [],
   "source": [
    "qr.add_data(data)"
   ]
  },
  {
   "cell_type": "code",
   "execution_count": 6,
   "id": "16364993",
   "metadata": {},
   "outputs": [],
   "source": [
    "qr.make(fit = True)"
   ]
  },
  {
   "cell_type": "code",
   "execution_count": 7,
   "id": "62bbb3c3",
   "metadata": {},
   "outputs": [],
   "source": [
    "image = qr.make_image(colour=\"black\",outercolour=\"white\")"
   ]
  },
  {
   "cell_type": "code",
   "execution_count": 8,
   "id": "dabbe477",
   "metadata": {},
   "outputs": [],
   "source": [
    "image.save(\"github profile QRcode.png\")"
   ]
  },
  {
   "cell_type": "code",
   "execution_count": null,
   "id": "6e95aeff",
   "metadata": {},
   "outputs": [],
   "source": []
  }
 ],
 "metadata": {
  "kernelspec": {
   "display_name": "Python 3 (ipykernel)",
   "language": "python",
   "name": "python3"
  },
  "language_info": {
   "codemirror_mode": {
    "name": "ipython",
    "version": 3
   },
   "file_extension": ".py",
   "mimetype": "text/x-python",
   "name": "python",
   "nbconvert_exporter": "python",
   "pygments_lexer": "ipython3",
   "version": "3.9.12"
  }
 },
 "nbformat": 4,
 "nbformat_minor": 5
}
